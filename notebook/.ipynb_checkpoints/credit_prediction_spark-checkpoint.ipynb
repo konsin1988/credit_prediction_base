{
 "cells": [
  {
   "cell_type": "code",
   "execution_count": 4,
   "id": "96fa2eaa-631a-45e6-afe0-47aafd57060b",
   "metadata": {},
   "outputs": [],
   "source": [
    "from pyspark.sql import SparkSession\n",
    "\n",
    "from sklearn.model_selection import train_test_split, cross_val_score\n",
    "from sklearn.metrics import classification_report, confusion_matrix, accuracy_score\n",
    "from sklearn.compose import ColumnTransformer\n",
    "from sklearn.impute import SimpleImputer\n",
    "from sklearn.pipeline import Pipeline\n",
    "from sklearn.preprocessing import StandardScaler, OneHotEncoder\n",
    "\n",
    "import optuna\n",
    "\n",
    "from giskard import Dataset, Model, scan, testing\n",
    "import pickle\n",
    "\n",
    "from minio import Minio\n",
    "from minio.error import S3Error\n",
    "\n",
    "import clickhouse_connect"
   ]
  },
  {
   "cell_type": "code",
   "execution_count": 3,
   "id": "fabb5adc-d04c-472f-9f2f-237196ac3bc4",
   "metadata": {},
   "outputs": [],
   "source": [
    "from dotenv import load_dotenv\n",
    "import os\n",
    "\n",
    "load_dotenv()\n",
    "\n",
    "SPARK_COMPAT_VERSION = os.getenv('SPARK_COMPAT_VERSION')\n",
    "SCALA_COMPAT_VERSION = os.getenv('SCALA_COMPAT_VERSION')\n",
    "CATBOOST_SPARK_VERSION = os.getenv('CATBOOST_SPARK_VERSION')\n",
    "CLICKHOUSE_HOST = os.getenv('CLICKHOUSE_HOST')\n",
    "CLICKHOUSE_PORT = os.getenv('CLICKHOUSE_PORT')\n",
    "CLICKHOUSE_USER = os.getenv('CLICKHOUSE_USER')\n",
    "CLICKHOUSE_PASSWORD = os.getenv('CLICKHOUSE_PASSWORD')"
   ]
  },
  {
   "cell_type": "code",
   "execution_count": 5,
   "id": "43c1c538-0b2c-4150-bda0-32a6652697ab",
   "metadata": {},
   "outputs": [
    {
     "data": {
      "text/plain": [
       "5050"
      ]
     },
     "execution_count": 5,
     "metadata": {},
     "output_type": "execute_result"
    },
    {
     "name": "stderr",
     "output_type": "stream",
     "text": [
      "25/05/05 21:52:55 WARN GarbageCollectionMetrics: To enable non-built-in garbage collector(s) List(G1 Concurrent GC), users should configure it(them) to spark.eventLog.gcMetrics.youngGenerationGarbageCollectors or spark.eventLog.gcMetrics.oldGenerationGarbageCollectors\n"
     ]
    }
   ],
   "source": [
    "# Spark session & context\n",
    "spark = (\n",
    "    SparkSession\n",
    "    .builder\n",
    "    .config(\"spark.jars.packages\", f\"ai.catboost:catboost-spark_{SPARK_COMPAT_VERSION}_{SCALA_COMPAT_VERSION}:{CATBOOST_SPARK_VERSION}\")\n",
    "    .config(\"spark.driver.extraClassPath\",\"./clickhouse-native-jdbc-shaded-2.5.4.jar\")\n",
    "    .master(\"local[1]\")\n",
    "    .getOrCreate()\n",
    ")\n",
    "sc = spark.sparkContext\n",
    "\n",
    "# Sum of the first 100 whole numbers\n",
    "rdd = sc.parallelize(range(100 + 1))\n",
    "rdd.sum()\n",
    "# 5050"
   ]
  },
  {
   "cell_type": "code",
   "execution_count": 6,
   "id": "84b64eda-662f-4ff0-8e39-76144cdc66b7",
   "metadata": {},
   "outputs": [],
   "source": [
    "import catboost_spark\n",
    "from catboost_spark import CatBoostClassifier"
   ]
  },
  {
   "cell_type": "code",
   "execution_count": 3,
   "id": "5c517adc-3206-4de2-8730-ceaa85739ae1",
   "metadata": {},
   "outputs": [],
   "source": [
    "client = clickhouse_connect.get_client(host = CLICKHOUSE_HOST, \n",
    "                                       port = CLICKHOUSE_PORT, \n",
    "                                       user = CLICKHOUSE_USER, \n",
    "                                       password = CLICKHOUSE_PASSWORD)"
   ]
  },
  {
   "cell_type": "code",
   "execution_count": 6,
   "id": "c972dd8e-38c3-49b8-88c9-dec39c9f3ab5",
   "metadata": {},
   "outputs": [
    {
     "name": "stdout",
     "output_type": "stream",
     "text": [
      "+---+------+---+-------+---------------+----------------+-------------+--------+-------------------+-------+-------------------+---------+\n",
      "|age|   sex|job|housing|saving_accounts|checking_account|credit_amount|duration|            purpose|default|        contract_dt|client_id|\n",
      "+---+------+---+-------+---------------+----------------+-------------+--------+-------------------+-------+-------------------+---------+\n",
      "| 20|  male|  2|    own|           NULL|          little|         2996|      24|furniture/equipment|      1|2007-05-01 11:17:29|      495|\n",
      "| 49|female|  2|    own|         little|        moderate|         1092|      12|           radio/TV|      0|2007-05-01 12:41:46|      288|\n",
      "| 30|female|  3|    own|         little|        moderate|         4795|      36|           radio/TV|      0|2007-05-01 16:42:45|      141|\n",
      "| 39|female|  1|    own|           NULL|        moderate|          932|       6|          education|      0|2007-05-02 00:28:44|      215|\n",
      "| 31|  male|  2|    own|         little|            NULL|         2775|      18|                car|      1|2007-05-02 03:14:02|      598|\n",
      "| 36|  male|  2|    own|         little|        moderate|          884|      18|                car|      1|2007-05-02 10:22:11|      184|\n",
      "| 27|female|  1|    own|         little|          little|         3643|      15|furniture/equipment|      0|2007-05-03 08:28:36|      319|\n",
      "| 47|  male|  3|    own|         little|        moderate|         1209|       6|                car|      1|2007-05-03 14:29:01|      485|\n",
      "| 55|female|  0|   free|         little|          little|         1190|      18|            repairs|      1|2007-05-05 04:14:17|      429|\n",
      "| 30|  male|  3|    own|     quite rich|            NULL|         2333|      30|           radio/TV|      0|2007-05-05 05:25:39|       40|\n",
      "| 55|  male|  2|    own|           rich|            NULL|         1413|      12|                car|      0|2007-05-05 10:35:11|      209|\n",
      "| 39|  male|  2|    own|           NULL|          little|         2212|      20|furniture/equipment|      0|2007-05-05 14:26:21|      380|\n",
      "| 34|  male|  1|    own|       moderate|            NULL|         1569|      15|           radio/TV|      0|2007-05-06 04:45:52|      991|\n",
      "| 75|  male|  3|   free|         little|          little|         6615|      24|                car|      0|2007-05-06 13:37:45|      330|\n",
      "| 35|female|  3|    own|         little|            NULL|         1393|      11|                car|      0|2007-05-06 14:58:22|       45|\n",
      "| 28|  male|  2|    own|         little|          little|         1108|      12|            repairs|      1|2007-05-06 15:10:24|       89|\n",
      "| 29|  male|  2|    own|           NULL|            NULL|         3556|      15|                car|      0|2007-05-06 19:02:50|      962|\n",
      "| 38|  male|  3|    own|           rich|            NULL|         5711|      36|                car|      0|2007-05-06 22:06:16|      778|\n",
      "| 45|  male|  1|    own|         little|          little|         4006|      28|                car|      1|2007-05-07 08:53:09|      958|\n",
      "| 30|  male|  2|   rent|         little|        moderate|         2002|      12|                car|      0|2007-05-07 21:46:15|      923|\n",
      "+---+------+---+-------+---------------+----------------+-------------+--------+-------------------+-------+-------------------+---------+\n",
      "only showing top 20 rows\n",
      "\n"
     ]
    }
   ],
   "source": [
    "from pyspark.sql import SparkSession\n",
    "\n",
    "packages = [\n",
    "    \"com.clickhouse.spark:clickhouse-spark-runtime-3.4_2.12:0.8.0\",\n",
    "    \"com.clickhouse:clickhouse-client:0.7.0\",\n",
    "    \"com.clickhouse:clickhouse-http-client:0.7.0\",\n",
    "    \"org.apache.httpcomponents.client5:httpclient5:5.2.1\"\n",
    "\n",
    "]\n",
    "\n",
    "spark = (SparkSession.builder\n",
    "         .config(\"spark.jars.packages\", \",\".join(packages))\n",
    "         .getOrCreate())\n",
    "\n",
    "spark.conf.set(\"spark.sql.catalog.clickhouse\", \"com.clickhouse.spark.ClickHouseCatalog\")\n",
    "spark.conf.set(\"spark.sql.catalog.clickhouse.host\", \"127.0.0.1\")\n",
    "spark.conf.set(\"spark.sql.catalog.clickhouse.protocol\", \"http\")\n",
    "spark.conf.set(\"spark.sql.catalog.clickhouse.http_port\", \"8123\")\n",
    "spark.conf.set(\"spark.sql.catalog.clickhouse.user\", \"konsin1988\")\n",
    "spark.conf.set(\"spark.sql.catalog.clickhouse.password\", \"r13l02c1988\")\n",
    "spark.conf.set(\"spark.sql.catalog.clickhouse.database\", \"credit\")\n",
    "spark.conf.set(\"spark.clickhouse.write.format\", \"json\")\n",
    "\n",
    "df = spark.sql(\"select * from clickhouse.credit.credit\")\n",
    "df.show()"
   ]
  }
 ],
 "metadata": {
  "kernelspec": {
   "display_name": "Python 3 (ipykernel)",
   "language": "python",
   "name": "python3"
  },
  "language_info": {
   "codemirror_mode": {
    "name": "ipython",
    "version": 3
   },
   "file_extension": ".py",
   "mimetype": "text/x-python",
   "name": "python",
   "nbconvert_exporter": "python",
   "pygments_lexer": "ipython3",
   "version": "3.12.3"
  }
 },
 "nbformat": 4,
 "nbformat_minor": 5
}
